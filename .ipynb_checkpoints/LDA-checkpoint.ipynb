{
 "cells": [
  {
   "cell_type": "markdown",
   "metadata": {
    "slideshow": {
     "slide_type": "slide"
    }
   },
   "source": [
    "# Topic Modeling\n",
    "\n",
    "Christoph & Nadia"
   ]
  },
  {
   "cell_type": "markdown",
   "metadata": {
    "slideshow": {
     "slide_type": "slide"
    }
   },
   "source": [
    "## Imports von hauptsächlich Gensim & SpaCy"
   ]
  },
  {
   "cell_type": "code",
   "execution_count": 1,
   "metadata": {
    "slideshow": {
     "slide_type": "fragment"
    }
   },
   "outputs": [],
   "source": [
    "from pprint import pprint\n",
    "import gensim\n",
    "from gensim import corpora, models, similarities\n",
    "from gensim.models import LdaModel, LsiModel\n",
    "from spacy_preprocessing.preprocess import Preprocess\n",
    "from tabulate import tabulate\n",
    "\n",
    "import numpy as np\n",
    "import pickle\n",
    "import pyLDAvis\n",
    "import pyLDAvis.gensim\n",
    "\n",
    "import os\n",
    "import warnings\n",
    "warnings.filterwarnings('ignore')\n",
    "\n",
    "from ipywidgets import widgets\n",
    "from IPython.display import display, clear_output\n",
    "\n",
    "from spacy_preprocessing.preprocess import Preprocess\n",
    "import datetime\n",
    "\n",
    "load_saved = False\n",
    "num_topics = 4\n",
    "epochs_to_train = 10"
   ]
  },
  {
   "cell_type": "markdown",
   "metadata": {
    "slideshow": {
     "slide_type": "slide"
    }
   },
   "source": [
    "## Zusätzliche Preprocessing Funktionen"
   ]
  },
  {
   "cell_type": "code",
   "execution_count": 2,
   "metadata": {
    "slideshow": {
     "slide_type": "fragment"
    }
   },
   "outputs": [],
   "source": [
    "def is_blacklisted(word):\n",
    "    return word in [\n",
    "        'polizei', 'polizist', 'beamter', 'nr.', 'berlin', 'uhr', 'polizeimeldung',\n",
    "        'nicht', 'jahr', 'jährige', 'jährig', 'jähriger', 'polizeiliche', 'polizeilich', '2015', '2016',\n",
    "        '2014', '2017', '2018', 'polizeibeamter', '-', 'u.a.', 'z.b.', 'der', 'die', 'das', 'dem', 'den', 'diese', 'dieser',\n",
    "        'diesen', 'diesem', 'um', 'für', 'eine', 'ein', 'einer', 'einen', 'einem', 'anderer', 'andere', 'anderen', 'anders'\n",
    "    ]\n",
    "\n",
    "def is_empty(word):\n",
    "    return word.strip() == ''\n",
    "\n",
    "def can_parse_date(word):\n",
    "    try:\n",
    "        datetime.datetime.strptime(word, '%d.%m.%Y')\n",
    "        return True\n",
    "    except ValueError:\n",
    "        return False\n",
    "\n",
    "def can_parse_num_int(word):\n",
    "    try:\n",
    "        int(word)\n",
    "        return True\n",
    "    except ValueError:\n",
    "        return False "
   ]
  },
  {
   "cell_type": "code",
   "execution_count": 3,
   "metadata": {
    "slideshow": {
     "slide_type": "slide"
    }
   },
   "outputs": [],
   "source": [
    "def can_parse_num_float(word):\n",
    "    try:\n",
    "        float(word)\n",
    "        return True\n",
    "    except ValueError:\n",
    "        return False\n",
    "\n",
    "def preprocess_after(doc):\n",
    "    return [\n",
    "        word \n",
    "        for word in doc\n",
    "        if not is_empty(word)\n",
    "        and not is_blacklisted(word)\n",
    "        and not can_parse_date(word)\n",
    "        and not can_parse_num_int(word)\n",
    "        and not can_parse_num_float(word)\n",
    "    ]"
   ]
  },
  {
   "cell_type": "markdown",
   "metadata": {
    "slideshow": {
     "slide_type": "slide"
    }
   },
   "source": [
    "## Daten aus pickle Datei laden und Preprocessing durchführen"
   ]
  },
  {
   "cell_type": "code",
   "execution_count": null,
   "metadata": {
    "slideshow": {
     "slide_type": "fragment"
    }
   },
   "outputs": [],
   "source": [
    "items = pickle.load(open('./data/items.pkl', 'rb'))\n",
    "texts = [report['text'] for report in items]\n",
    "titles = [report['title'] for report in items]\n",
    "ids = [report['_id'] for report in items]\n",
    "urls = [report['url'] for report in items]\n",
    "data = [report['text_pre_processed_v1'] for report in items]"
   ]
  },
  {
   "cell_type": "code",
   "execution_count": null,
   "metadata": {
    "slideshow": {
     "slide_type": "fragment"
    }
   },
   "outputs": [],
   "source": [
    "clean_data = [preprocess_after(doc) for doc in data]"
   ]
  },
  {
   "cell_type": "markdown",
   "metadata": {
    "slideshow": {
     "slide_type": "slide"
    }
   },
   "source": [
    "## Dictionary und Bag of Words aus jedem Dokument erstellen"
   ]
  },
  {
   "cell_type": "code",
   "execution_count": null,
   "metadata": {
    "slideshow": {
     "slide_type": "fragment"
    }
   },
   "outputs": [],
   "source": [
    "if load_saved:\n",
    "    id2word = corpora.Dictionary.load('./data/id2word')\n",
    "    corpus = pickle.load(open('./data/corpus.pkl', 'rb'))\n",
    "else:\n",
    "    id2word = corpora.Dictionary(clean_data)\n",
    "    corpus = [id2word.doc2bow(doc) for doc in clean_data]\n",
    "    \n",
    "    id2word.save('./data/id2word')\n",
    "    pickle.dump(corpus, open('./data/corpus.pkl', 'wb'))"
   ]
  },
  {
   "cell_type": "markdown",
   "metadata": {
    "slideshow": {
     "slide_type": "slide"
    }
   },
   "source": [
    "## LDA (Latent Dirichlet Allocation)- / LSI (Latent semantic indexing )-Modell"
   ]
  },
  {
   "cell_type": "code",
   "execution_count": null,
   "metadata": {
    "slideshow": {
     "slide_type": "fragment"
    }
   },
   "outputs": [],
   "source": [
    "if load_saved:\n",
    "    lda_model = LdaModel.load('./data/lda_model')\n",
    "    lsi_model = LsiModel.load('./data/lsi_model')\n",
    "else: \n",
    "    lda_model = LdaModel(\n",
    "        corpus=corpus, \n",
    "        id2word=id2word,\n",
    "        num_topics=num_topics,\n",
    "        passes=epochs_to_train, \n",
    "        alpha='auto',\n",
    "        eta='auto'\n",
    "    )\n",
    "    \n",
    "    lsi_model = LsiModel(\n",
    "        corpus=corpus, \n",
    "        id2word=id2word,\n",
    "        num_topics=num_topics, \n",
    "        power_iters=epochs_to_train\n",
    "    )\n",
    "    \n",
    "    \n",
    "    lda_model.save('./data/lda_model')\n",
    "    lsi_model.save('./data/lsi_model')"
   ]
  },
  {
   "cell_type": "code",
   "execution_count": null,
   "metadata": {
    "scrolled": true,
    "slideshow": {
     "slide_type": "slide"
    }
   },
   "outputs": [],
   "source": [
    "pprint(lda_model.print_topics())"
   ]
  },
  {
   "cell_type": "code",
   "execution_count": null,
   "metadata": {
    "slideshow": {
     "slide_type": "slide"
    }
   },
   "outputs": [],
   "source": [
    "bow = id2word.doc2bow(['messer', 'verletzung'])\n",
    "vec = lda_model[bow]\n",
    "vec"
   ]
  },
  {
   "cell_type": "markdown",
   "metadata": {
    "slideshow": {
     "slide_type": "slide"
    }
   },
   "source": [
    "## Topics visualisieren"
   ]
  },
  {
   "cell_type": "code",
   "execution_count": null,
   "metadata": {
    "slideshow": {
     "slide_type": "fragment"
    }
   },
   "outputs": [],
   "source": [
    "%%capture\n",
    "\n",
    "pyLDAvis.enable_notebook()\n",
    "vis = pyLDAvis.gensim.prepare(lda_model, corpus, id2word)\n",
    "vis"
   ]
  },
  {
   "cell_type": "code",
   "execution_count": null,
   "metadata": {
    "slideshow": {
     "slide_type": "skip"
    }
   },
   "outputs": [],
   "source": [
    "vis"
   ]
  },
  {
   "cell_type": "markdown",
   "metadata": {
    "slideshow": {
     "slide_type": "slide"
    }
   },
   "source": [
    "## MatrixSimilarity erstellen"
   ]
  },
  {
   "cell_type": "code",
   "execution_count": null,
   "metadata": {
    "slideshow": {
     "slide_type": "fragment"
    }
   },
   "outputs": [],
   "source": [
    "if load_saved:\n",
    "    index = similarities.MatrixSimilarity.load('./data/index')\n",
    "else:\n",
    "    index = similarities.MatrixSimilarity(lda_model[corpus])\n",
    "    index.save('./data/index')"
   ]
  },
  {
   "cell_type": "markdown",
   "metadata": {
    "slideshow": {
     "slide_type": "slide"
    }
   },
   "source": [
    "## Die Suche"
   ]
  },
  {
   "cell_type": "code",
   "execution_count": null,
   "metadata": {
    "scrolled": false,
    "slideshow": {
     "slide_type": "fragment"
    }
   },
   "outputs": [],
   "source": [
    "use_lsi = False\n",
    "\n",
    "html_widget = widgets.HTML(\n",
    "    value = ''\n",
    ")\n",
    "\n",
    "text_widget = widgets.Text()\n",
    "\n",
    "\n",
    "def search(sender):  \n",
    "    preprocess = Preprocess(sender.value)\n",
    "    search_term_preprocessed = preprocess_after(preprocess.preprocess(sentence_split=False, with_pos=False))\n",
    "    search_term_bow = id2word.doc2bow(search_term_preprocessed)\n",
    "    \n",
    "    if use_lsi:\n",
    "        search_term_vec = lsi_model[search_term_bow]\n",
    "    else:\n",
    "        search_term_vec = lda_model[search_term_bow]\n",
    "    \n",
    "    \n",
    "    sims = index[search_term_vec]\n",
    "    similarity_list = list(zip(range(len(sims)), sims, texts, titles, ids, urls))\n",
    "    similarity_list.sort(key=lambda x: x[1], reverse=True)\n",
    "    \n",
    "    results = [f'<h3>{result[3]}</h3><em>Id: {result[4]} | Similarity Score: {round(result[1] * 100, 2)} % | Link: <a target=\"_blank\" href=\"{result[5]}\">{result[5]}</a></em><br><p style=\"width: 80%;\">{result[2]}</p>' for result in similarity_list[:10]]\n",
    "    output = '<hr><br>'.join(results)\n",
    "    \n",
    "    html_widget.value = output\n",
    "\n",
    "text_widget.on_submit(search)    \n",
    "    \n",
    "display(text_widget)\n",
    "display(html_widget)    \n"
   ]
  }
 ],
 "metadata": {
  "celltoolbar": "Slideshow",
  "kernelspec": {
   "display_name": "Python 3",
   "language": "python",
   "name": "python3"
  },
  "language_info": {
   "codemirror_mode": {
    "name": "ipython",
    "version": 3
   },
   "file_extension": ".py",
   "mimetype": "text/x-python",
   "name": "python",
   "nbconvert_exporter": "python",
   "pygments_lexer": "ipython3",
   "version": "3.6.7"
  }
 },
 "nbformat": 4,
 "nbformat_minor": 2
}
